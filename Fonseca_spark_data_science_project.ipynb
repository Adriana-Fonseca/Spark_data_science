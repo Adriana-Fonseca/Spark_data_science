{
 "cells": [
  {
   "cell_type": "markdown",
   "id": "1e83602c",
   "metadata": {},
   "source": [
    "The aim of this project is to analyse whether we can use data about methylation frequency to predict whether a person will get acute myeloid leaukemia (AML).  \n",
    "\n",
    "We are looking at 23 donors who go on to develop AML in the next two years, and matched control. We have data for around 2500 informative differentially methylated regions (DMRs) (defined in previous work).\n",
    "\n",
    "We also have data on age and smoking status, so will also query whether the DMRs allow prediction of these factors (as there is a correlation between methylation and each of these)."
   ]
  },
  {
   "cell_type": "markdown",
   "id": "d19a9f32",
   "metadata": {},
   "source": [
    "1- Read in dataframe with information about methylation at 2640 informative regions - rows are donors, 23 cases and 23 controls. Also have information on age and smoking status (as well as case-control status)"
   ]
  },
  {
   "cell_type": "code",
   "execution_count": 1,
   "id": "3635007f",
   "metadata": {},
   "outputs": [],
   "source": [
    "import pandas as pd\n",
    "df = pd.read_csv('221018_whole_genome_DMRs', index_col=0)"
   ]
  },
  {
   "cell_type": "code",
   "execution_count": 3,
   "id": "fa22f3d1",
   "metadata": {},
   "outputs": [],
   "source": [
    "df.head(3)"
   ]
  },
  {
   "cell_type": "markdown",
   "id": "662152a7",
   "metadata": {},
   "source": [
    "2- Understand distributions of age and smoking status"
   ]
  },
  {
   "cell_type": "code",
   "execution_count": 18,
   "id": "23d02198",
   "metadata": {},
   "outputs": [],
   "source": [
    "df_characteristics=df[['Age','Smoking_status','Case_control_status']]\n",
    "\n",
    "df_characteristics.hist()"
   ]
  },
  {
   "cell_type": "code",
   "execution_count": 12,
   "id": "2e71d4fa",
   "metadata": {},
   "outputs": [],
   "source": [
    "df_characteristics.describe()"
   ]
  },
  {
   "cell_type": "code",
   "execution_count": 17,
   "id": "256c1390",
   "metadata": {},
   "outputs": [],
   "source": [
    "df_characteristics['Smoking_status'].value_counts(dropna=False)"
   ]
  },
  {
   "cell_type": "code",
   "execution_count": null,
   "id": "ceddcd88",
   "metadata": {},
   "outputs": [],
   "source": [
    "# All donors are aged between 50 and 80, with the most common bracket being 65-70. \n",
    "# For smoking status, we only have information for 34 of the 46 donors, of which 19 did not smoke, and 15 did smoke"
   ]
  },
  {
   "cell_type": "markdown",
   "id": "83b88fae",
   "metadata": {},
   "source": [
    "2.1- Look at smoking as a function of case/control status"
   ]
  },
  {
   "cell_type": "code",
   "execution_count": 19,
   "id": "c0763ea3",
   "metadata": {},
   "outputs": [],
   "source": [
    "smoking_by_status=df_characteristics.groupby('Case_control_status')['Smoking_status'].value_counts(dropna=False)"
   ]
  },
  {
   "cell_type": "code",
   "execution_count": 20,
   "id": "b99278a6",
   "metadata": {},
   "outputs": [],
   "source": [
    "smoking_by_status"
   ]
  },
  {
   "cell_type": "code",
   "execution_count": null,
   "id": "e632b251",
   "metadata": {},
   "outputs": [],
   "source": [
    "# Within case group 2/3 of donors for which we have information smoke\n",
    "# Within control group, approximately 1/4 smoke"
   ]
  },
  {
   "cell_type": "markdown",
   "id": "5dac3894",
   "metadata": {},
   "source": [
    "3- Get an idea of correlations across DMRs"
   ]
  },
  {
   "cell_type": "code",
   "execution_count": null,
   "id": "8b7a1f0a",
   "metadata": {},
   "outputs": [],
   "source": [
    "# dataframe is too large to make plot from, so filter randomly down to 100 DMRs (do a few times)"
   ]
  },
  {
   "cell_type": "code",
   "execution_count": 7,
   "id": "f0e8b3c3",
   "metadata": {},
   "outputs": [],
   "source": [
    "import random\n",
    "random_col_nos = random.sample(range(1, 2640), 100)"
   ]
  },
  {
   "cell_type": "code",
   "execution_count": 8,
   "id": "3ba4aa02",
   "metadata": {},
   "outputs": [],
   "source": [
    "print (len(random_col_nos))"
   ]
  },
  {
   "cell_type": "code",
   "execution_count": 9,
   "id": "21f782cf",
   "metadata": {},
   "outputs": [],
   "source": [
    "cols=[]\n",
    "for c in random_col_nos:\n",
    "    col='DMR '+str(c)\n",
    "    cols.append(col)\n",
    "    \n",
    "df_short=df[cols]"
   ]
  },
  {
   "cell_type": "code",
   "execution_count": 10,
   "id": "b48a2b79",
   "metadata": {},
   "outputs": [],
   "source": [
    "import seaborn as sns\n",
    "sns.heatmap(df_short.corr(), cmap='coolwarm', square=True);"
   ]
  },
  {
   "cell_type": "code",
   "execution_count": null,
   "id": "66d41e82",
   "metadata": {},
   "outputs": [],
   "source": [
    "# In general, few very strong correlations - will leave all in for prediction model"
   ]
  },
  {
   "cell_type": "markdown",
   "id": "59ac2039",
   "metadata": {},
   "source": [
    "4- Filter out DMRs which are not covered in all donors (value=NaN for one or more row) for following analyses"
   ]
  },
  {
   "cell_type": "code",
   "execution_count": 2,
   "id": "a4bd60cc",
   "metadata": {},
   "outputs": [],
   "source": [
    "df_high_coverage=df.dropna(axis=1)"
   ]
  },
  {
   "cell_type": "code",
   "execution_count": 3,
   "id": "9603c8d5",
   "metadata": {},
   "outputs": [
    {
     "data": {
      "text/html": [
       "<div>\n",
       "<style scoped>\n",
       "    .dataframe tbody tr th:only-of-type {\n",
       "        vertical-align: middle;\n",
       "    }\n",
       "\n",
       "    .dataframe tbody tr th {\n",
       "        vertical-align: top;\n",
       "    }\n",
       "\n",
       "    .dataframe thead th {\n",
       "        text-align: right;\n",
       "    }\n",
       "</style>\n",
       "<table border=\"1\" class=\"dataframe\">\n",
       "  <thead>\n",
       "    <tr style=\"text-align: right;\">\n",
       "      <th></th>\n",
       "      <th>DMR 1</th>\n",
       "      <th>DMR 2</th>\n",
       "      <th>DMR 3</th>\n",
       "      <th>DMR 4</th>\n",
       "      <th>DMR 5</th>\n",
       "      <th>DMR 6</th>\n",
       "      <th>DMR 7</th>\n",
       "      <th>DMR 8</th>\n",
       "      <th>DMR 9</th>\n",
       "      <th>DMR 10</th>\n",
       "      <th>...</th>\n",
       "      <th>DMR 2631</th>\n",
       "      <th>DMR 2633</th>\n",
       "      <th>DMR 2635</th>\n",
       "      <th>DMR 2636</th>\n",
       "      <th>DMR 2637</th>\n",
       "      <th>DMR 2638</th>\n",
       "      <th>DMR 2639</th>\n",
       "      <th>DMR 2640</th>\n",
       "      <th>Age</th>\n",
       "      <th>Case_control_status</th>\n",
       "    </tr>\n",
       "  </thead>\n",
       "  <tbody>\n",
       "    <tr>\n",
       "      <th>0</th>\n",
       "      <td>0.401564</td>\n",
       "      <td>0.758967</td>\n",
       "      <td>0.954348</td>\n",
       "      <td>0.363624</td>\n",
       "      <td>0.432317</td>\n",
       "      <td>0.326701</td>\n",
       "      <td>0.821014</td>\n",
       "      <td>0.121339</td>\n",
       "      <td>0.552083</td>\n",
       "      <td>0.404688</td>\n",
       "      <td>...</td>\n",
       "      <td>0.969892</td>\n",
       "      <td>0.065738</td>\n",
       "      <td>0.931159</td>\n",
       "      <td>0.315315</td>\n",
       "      <td>0.305660</td>\n",
       "      <td>0.369048</td>\n",
       "      <td>0.183403</td>\n",
       "      <td>0.041667</td>\n",
       "      <td>80.13</td>\n",
       "      <td>Case</td>\n",
       "    </tr>\n",
       "    <tr>\n",
       "      <th>1</th>\n",
       "      <td>0.068567</td>\n",
       "      <td>0.196062</td>\n",
       "      <td>0.668301</td>\n",
       "      <td>0.053066</td>\n",
       "      <td>0.071273</td>\n",
       "      <td>0.048466</td>\n",
       "      <td>0.024194</td>\n",
       "      <td>0.009434</td>\n",
       "      <td>0.141934</td>\n",
       "      <td>0.076239</td>\n",
       "      <td>...</td>\n",
       "      <td>0.852041</td>\n",
       "      <td>0.053608</td>\n",
       "      <td>0.550000</td>\n",
       "      <td>0.046875</td>\n",
       "      <td>0.215986</td>\n",
       "      <td>0.156746</td>\n",
       "      <td>0.296875</td>\n",
       "      <td>0.052632</td>\n",
       "      <td>69.33</td>\n",
       "      <td>Case</td>\n",
       "    </tr>\n",
       "  </tbody>\n",
       "</table>\n",
       "<p>2 rows × 2155 columns</p>\n",
       "</div>"
      ],
      "text/plain": [
       "      DMR 1     DMR 2     DMR 3     DMR 4     DMR 5     DMR 6     DMR 7  \\\n",
       "0  0.401564  0.758967  0.954348  0.363624  0.432317  0.326701  0.821014   \n",
       "1  0.068567  0.196062  0.668301  0.053066  0.071273  0.048466  0.024194   \n",
       "\n",
       "      DMR 8     DMR 9    DMR 10  ...  DMR 2631  DMR 2633  DMR 2635  DMR 2636  \\\n",
       "0  0.121339  0.552083  0.404688  ...  0.969892  0.065738  0.931159  0.315315   \n",
       "1  0.009434  0.141934  0.076239  ...  0.852041  0.053608  0.550000  0.046875   \n",
       "\n",
       "   DMR 2637  DMR 2638  DMR 2639  DMR 2640    Age  Case_control_status  \n",
       "0  0.305660  0.369048  0.183403  0.041667  80.13                 Case  \n",
       "1  0.215986  0.156746  0.296875  0.052632  69.33                 Case  \n",
       "\n",
       "[2 rows x 2155 columns]"
      ]
     },
     "execution_count": 3,
     "metadata": {},
     "output_type": "execute_result"
    }
   ],
   "source": [
    "df_high_coverage.head(2)"
   ]
  },
  {
   "cell_type": "code",
   "execution_count": 4,
   "id": "0cbd07aa",
   "metadata": {},
   "outputs": [],
   "source": [
    "df.head(2)"
   ]
  },
  {
   "cell_type": "code",
   "execution_count": null,
   "id": "ae951063",
   "metadata": {},
   "outputs": [],
   "source": [
    "# Lose approximately 18% of regions, but this is still over 2000 DMRs"
   ]
  },
  {
   "cell_type": "markdown",
   "id": "a0405b1a",
   "metadata": {},
   "source": [
    "5- Do DMRs predict age? "
   ]
  },
  {
   "cell_type": "code",
   "execution_count": null,
   "id": "92679914",
   "metadata": {},
   "outputs": [],
   "source": [
    "# NB: this is not something we expect to be the case for this data, but not impossible for it to happen"
   ]
  },
  {
   "cell_type": "code",
   "execution_count": 8,
   "id": "f625338a",
   "metadata": {},
   "outputs": [],
   "source": [
    "from sklearn.linear_model import LinearRegression\n",
    "import numpy as np\n",
    "from sklearn.metrics import mean_squared_error\n",
    "\n",
    "dmr_cols=[]\n",
    "for c in df_high_coverage.columns:\n",
    "    if c.startswith('DMR'):\n",
    "        dmr_cols.append(c)\n",
    "\n",
    "x=df_high_coverage[dmr_cols]\n",
    "y=df_high_coverage['Age']\n",
    "y=np.array(y)\n",
    "y.reshape((len(y),1))\n",
    "model = LinearRegression()\n",
    "pred_model=model.fit(x,y)\n",
    "y_pred = model.predict(x)\n",
    "error=mean_squared_error(y, y_pred)"
   ]
  },
  {
   "cell_type": "code",
   "execution_count": 9,
   "id": "d3e0ce26",
   "metadata": {},
   "outputs": [],
   "source": [
    "print (error)"
   ]
  },
  {
   "cell_type": "code",
   "execution_count": 10,
   "id": "c5b795fe",
   "metadata": {},
   "outputs": [],
   "source": [
    "print(f\"Weight for single feature x: {model.coef_}\\n\")\n",
    "print(f\"Bias term for model: {model.intercept_}\\n\")\n",
    "print(f\"R2 score for model: {model.score(x, y)}\\n\")"
   ]
  },
  {
   "cell_type": "code",
   "execution_count": 11,
   "id": "e2cc203f",
   "metadata": {},
   "outputs": [],
   "source": [
    "# What if do on subset of data?"
   ]
  },
  {
   "cell_type": "code",
   "execution_count": 23,
   "id": "65378a68",
   "metadata": {},
   "outputs": [],
   "source": [
    "from sklearn.model_selection import train_test_split\n",
    "x_train, x_test,y_train,y_test = train_test_split(x,y,test_size = 0.3)\n",
    "model = LinearRegression()\n",
    "pred_model=model.fit(x_train,y_train)"
   ]
  },
  {
   "cell_type": "code",
   "execution_count": 24,
   "id": "72ac4c5c",
   "metadata": {},
   "outputs": [],
   "source": [
    "model.score(x_test,y_test)"
   ]
  },
  {
   "cell_type": "code",
   "execution_count": null,
   "id": "bbd8ce8b",
   "metadata": {},
   "outputs": [],
   "source": [
    "# much weaker link when look at it this way, so can conclude that cannot get a good estimate of age from DMRs\n",
    "# Also - get very different values when run multiple times, further suggesting this (likely driven by how small the dataset is)"
   ]
  },
  {
   "cell_type": "markdown",
   "id": "da30ff0d",
   "metadata": {},
   "source": [
    "6 - Do DMRs predict smoking status?"
   ]
  },
  {
   "cell_type": "code",
   "execution_count": null,
   "id": "ebfe2606",
   "metadata": {},
   "outputs": [],
   "source": [
    "# First, must remove people for which do not have smoking data (and then remove regions for which don't have data for all donors)"
   ]
  },
  {
   "cell_type": "code",
   "execution_count": 4,
   "id": "380bfe96",
   "metadata": {},
   "outputs": [
    {
     "data": {
      "text/html": [
       "<div>\n",
       "<style scoped>\n",
       "    .dataframe tbody tr th:only-of-type {\n",
       "        vertical-align: middle;\n",
       "    }\n",
       "\n",
       "    .dataframe tbody tr th {\n",
       "        vertical-align: top;\n",
       "    }\n",
       "\n",
       "    .dataframe thead th {\n",
       "        text-align: right;\n",
       "    }\n",
       "</style>\n",
       "<table border=\"1\" class=\"dataframe\">\n",
       "  <thead>\n",
       "    <tr style=\"text-align: right;\">\n",
       "      <th></th>\n",
       "      <th>DMR 1</th>\n",
       "      <th>DMR 2</th>\n",
       "      <th>DMR 3</th>\n",
       "      <th>DMR 4</th>\n",
       "      <th>DMR 5</th>\n",
       "      <th>DMR 6</th>\n",
       "      <th>DMR 7</th>\n",
       "      <th>DMR 8</th>\n",
       "      <th>DMR 9</th>\n",
       "      <th>DMR 10</th>\n",
       "      <th>...</th>\n",
       "      <th>DMR 2634</th>\n",
       "      <th>DMR 2635</th>\n",
       "      <th>DMR 2636</th>\n",
       "      <th>DMR 2637</th>\n",
       "      <th>DMR 2638</th>\n",
       "      <th>DMR 2639</th>\n",
       "      <th>DMR 2640</th>\n",
       "      <th>Age</th>\n",
       "      <th>Smoking_status</th>\n",
       "      <th>Case_control_status</th>\n",
       "    </tr>\n",
       "  </thead>\n",
       "  <tbody>\n",
       "    <tr>\n",
       "      <th>0</th>\n",
       "      <td>0.401564</td>\n",
       "      <td>0.758967</td>\n",
       "      <td>0.954348</td>\n",
       "      <td>0.363624</td>\n",
       "      <td>0.432317</td>\n",
       "      <td>0.326701</td>\n",
       "      <td>0.821014</td>\n",
       "      <td>0.121339</td>\n",
       "      <td>0.552083</td>\n",
       "      <td>0.404688</td>\n",
       "      <td>...</td>\n",
       "      <td>0.237500</td>\n",
       "      <td>0.931159</td>\n",
       "      <td>0.315315</td>\n",
       "      <td>0.305660</td>\n",
       "      <td>0.369048</td>\n",
       "      <td>0.183403</td>\n",
       "      <td>0.041667</td>\n",
       "      <td>80.13</td>\n",
       "      <td>Y</td>\n",
       "      <td>Case</td>\n",
       "    </tr>\n",
       "    <tr>\n",
       "      <th>1</th>\n",
       "      <td>0.068567</td>\n",
       "      <td>0.196062</td>\n",
       "      <td>0.668301</td>\n",
       "      <td>0.053066</td>\n",
       "      <td>0.071273</td>\n",
       "      <td>0.048466</td>\n",
       "      <td>0.024194</td>\n",
       "      <td>0.009434</td>\n",
       "      <td>0.141934</td>\n",
       "      <td>0.076239</td>\n",
       "      <td>...</td>\n",
       "      <td>0.000000</td>\n",
       "      <td>0.550000</td>\n",
       "      <td>0.046875</td>\n",
       "      <td>0.215986</td>\n",
       "      <td>0.156746</td>\n",
       "      <td>0.296875</td>\n",
       "      <td>0.052632</td>\n",
       "      <td>69.33</td>\n",
       "      <td>N</td>\n",
       "      <td>Case</td>\n",
       "    </tr>\n",
       "    <tr>\n",
       "      <th>2</th>\n",
       "      <td>0.083163</td>\n",
       "      <td>0.276989</td>\n",
       "      <td>0.467270</td>\n",
       "      <td>0.062500</td>\n",
       "      <td>0.034416</td>\n",
       "      <td>0.074650</td>\n",
       "      <td>0.022973</td>\n",
       "      <td>0.035185</td>\n",
       "      <td>0.102621</td>\n",
       "      <td>0.091151</td>\n",
       "      <td>...</td>\n",
       "      <td>0.071429</td>\n",
       "      <td>0.875000</td>\n",
       "      <td>0.152252</td>\n",
       "      <td>0.144186</td>\n",
       "      <td>0.181746</td>\n",
       "      <td>0.431034</td>\n",
       "      <td>0.036508</td>\n",
       "      <td>71.09</td>\n",
       "      <td>Y</td>\n",
       "      <td>Case</td>\n",
       "    </tr>\n",
       "    <tr>\n",
       "      <th>3</th>\n",
       "      <td>0.427778</td>\n",
       "      <td>0.816327</td>\n",
       "      <td>0.959115</td>\n",
       "      <td>0.265112</td>\n",
       "      <td>0.414634</td>\n",
       "      <td>0.254321</td>\n",
       "      <td>0.750000</td>\n",
       "      <td>0.490991</td>\n",
       "      <td>0.255848</td>\n",
       "      <td>0.261905</td>\n",
       "      <td>...</td>\n",
       "      <td>NaN</td>\n",
       "      <td>0.880952</td>\n",
       "      <td>0.000000</td>\n",
       "      <td>0.242754</td>\n",
       "      <td>0.515152</td>\n",
       "      <td>0.657143</td>\n",
       "      <td>0.134921</td>\n",
       "      <td>68.11</td>\n",
       "      <td>Y</td>\n",
       "      <td>Case</td>\n",
       "    </tr>\n",
       "    <tr>\n",
       "      <th>4</th>\n",
       "      <td>0.092773</td>\n",
       "      <td>0.171744</td>\n",
       "      <td>0.754745</td>\n",
       "      <td>0.096928</td>\n",
       "      <td>0.044677</td>\n",
       "      <td>0.163602</td>\n",
       "      <td>0.295455</td>\n",
       "      <td>0.283198</td>\n",
       "      <td>0.172790</td>\n",
       "      <td>0.191279</td>\n",
       "      <td>...</td>\n",
       "      <td>0.026667</td>\n",
       "      <td>0.884615</td>\n",
       "      <td>0.014706</td>\n",
       "      <td>0.359748</td>\n",
       "      <td>0.169872</td>\n",
       "      <td>0.359524</td>\n",
       "      <td>0.097561</td>\n",
       "      <td>65.53</td>\n",
       "      <td>N</td>\n",
       "      <td>Case</td>\n",
       "    </tr>\n",
       "  </tbody>\n",
       "</table>\n",
       "<p>5 rows × 2643 columns</p>\n",
       "</div>"
      ],
      "text/plain": [
       "      DMR 1     DMR 2     DMR 3     DMR 4     DMR 5     DMR 6     DMR 7  \\\n",
       "0  0.401564  0.758967  0.954348  0.363624  0.432317  0.326701  0.821014   \n",
       "1  0.068567  0.196062  0.668301  0.053066  0.071273  0.048466  0.024194   \n",
       "2  0.083163  0.276989  0.467270  0.062500  0.034416  0.074650  0.022973   \n",
       "3  0.427778  0.816327  0.959115  0.265112  0.414634  0.254321  0.750000   \n",
       "4  0.092773  0.171744  0.754745  0.096928  0.044677  0.163602  0.295455   \n",
       "\n",
       "      DMR 8     DMR 9    DMR 10  ...  DMR 2634  DMR 2635  DMR 2636  DMR 2637  \\\n",
       "0  0.121339  0.552083  0.404688  ...  0.237500  0.931159  0.315315  0.305660   \n",
       "1  0.009434  0.141934  0.076239  ...  0.000000  0.550000  0.046875  0.215986   \n",
       "2  0.035185  0.102621  0.091151  ...  0.071429  0.875000  0.152252  0.144186   \n",
       "3  0.490991  0.255848  0.261905  ...       NaN  0.880952  0.000000  0.242754   \n",
       "4  0.283198  0.172790  0.191279  ...  0.026667  0.884615  0.014706  0.359748   \n",
       "\n",
       "   DMR 2638  DMR 2639  DMR 2640    Age  Smoking_status  Case_control_status  \n",
       "0  0.369048  0.183403  0.041667  80.13               Y                 Case  \n",
       "1  0.156746  0.296875  0.052632  69.33               N                 Case  \n",
       "2  0.181746  0.431034  0.036508  71.09               Y                 Case  \n",
       "3  0.515152  0.657143  0.134921  68.11               Y                 Case  \n",
       "4  0.169872  0.359524  0.097561  65.53               N                 Case  \n",
       "\n",
       "[5 rows x 2643 columns]"
      ]
     },
     "execution_count": 4,
     "metadata": {},
     "output_type": "execute_result"
    }
   ],
   "source": [
    "df.head()"
   ]
  },
  {
   "cell_type": "code",
   "execution_count": 34,
   "id": "fc0a3055",
   "metadata": {},
   "outputs": [],
   "source": [
    "df_smoking=df = df[df['Smoking_status'].notna()]"
   ]
  },
  {
   "cell_type": "code",
   "execution_count": 10,
   "id": "4b8a28fb",
   "metadata": {
    "scrolled": true
   },
   "outputs": [
    {
     "data": {
      "text/html": [
       "<div>\n",
       "<style scoped>\n",
       "    .dataframe tbody tr th:only-of-type {\n",
       "        vertical-align: middle;\n",
       "    }\n",
       "\n",
       "    .dataframe tbody tr th {\n",
       "        vertical-align: top;\n",
       "    }\n",
       "\n",
       "    .dataframe thead th {\n",
       "        text-align: right;\n",
       "    }\n",
       "</style>\n",
       "<table border=\"1\" class=\"dataframe\">\n",
       "  <thead>\n",
       "    <tr style=\"text-align: right;\">\n",
       "      <th></th>\n",
       "      <th>DMR 1</th>\n",
       "      <th>DMR 2</th>\n",
       "      <th>DMR 3</th>\n",
       "      <th>DMR 4</th>\n",
       "      <th>DMR 5</th>\n",
       "      <th>DMR 6</th>\n",
       "      <th>DMR 7</th>\n",
       "      <th>DMR 8</th>\n",
       "      <th>DMR 9</th>\n",
       "      <th>DMR 10</th>\n",
       "      <th>...</th>\n",
       "      <th>DMR 2634</th>\n",
       "      <th>DMR 2635</th>\n",
       "      <th>DMR 2636</th>\n",
       "      <th>DMR 2637</th>\n",
       "      <th>DMR 2638</th>\n",
       "      <th>DMR 2639</th>\n",
       "      <th>DMR 2640</th>\n",
       "      <th>Age</th>\n",
       "      <th>Smoking_status</th>\n",
       "      <th>Case_control_status</th>\n",
       "    </tr>\n",
       "  </thead>\n",
       "  <tbody>\n",
       "    <tr>\n",
       "      <th>0</th>\n",
       "      <td>0.401564</td>\n",
       "      <td>0.758967</td>\n",
       "      <td>0.954348</td>\n",
       "      <td>0.363624</td>\n",
       "      <td>0.432317</td>\n",
       "      <td>0.326701</td>\n",
       "      <td>0.821014</td>\n",
       "      <td>0.121339</td>\n",
       "      <td>0.552083</td>\n",
       "      <td>0.404688</td>\n",
       "      <td>...</td>\n",
       "      <td>0.237500</td>\n",
       "      <td>0.931159</td>\n",
       "      <td>0.315315</td>\n",
       "      <td>0.305660</td>\n",
       "      <td>0.369048</td>\n",
       "      <td>0.183403</td>\n",
       "      <td>0.041667</td>\n",
       "      <td>80.13</td>\n",
       "      <td>Y</td>\n",
       "      <td>Case</td>\n",
       "    </tr>\n",
       "    <tr>\n",
       "      <th>1</th>\n",
       "      <td>0.068567</td>\n",
       "      <td>0.196062</td>\n",
       "      <td>0.668301</td>\n",
       "      <td>0.053066</td>\n",
       "      <td>0.071273</td>\n",
       "      <td>0.048466</td>\n",
       "      <td>0.024194</td>\n",
       "      <td>0.009434</td>\n",
       "      <td>0.141934</td>\n",
       "      <td>0.076239</td>\n",
       "      <td>...</td>\n",
       "      <td>0.000000</td>\n",
       "      <td>0.550000</td>\n",
       "      <td>0.046875</td>\n",
       "      <td>0.215986</td>\n",
       "      <td>0.156746</td>\n",
       "      <td>0.296875</td>\n",
       "      <td>0.052632</td>\n",
       "      <td>69.33</td>\n",
       "      <td>N</td>\n",
       "      <td>Case</td>\n",
       "    </tr>\n",
       "    <tr>\n",
       "      <th>2</th>\n",
       "      <td>0.083163</td>\n",
       "      <td>0.276989</td>\n",
       "      <td>0.467270</td>\n",
       "      <td>0.062500</td>\n",
       "      <td>0.034416</td>\n",
       "      <td>0.074650</td>\n",
       "      <td>0.022973</td>\n",
       "      <td>0.035185</td>\n",
       "      <td>0.102621</td>\n",
       "      <td>0.091151</td>\n",
       "      <td>...</td>\n",
       "      <td>0.071429</td>\n",
       "      <td>0.875000</td>\n",
       "      <td>0.152252</td>\n",
       "      <td>0.144186</td>\n",
       "      <td>0.181746</td>\n",
       "      <td>0.431034</td>\n",
       "      <td>0.036508</td>\n",
       "      <td>71.09</td>\n",
       "      <td>Y</td>\n",
       "      <td>Case</td>\n",
       "    </tr>\n",
       "    <tr>\n",
       "      <th>3</th>\n",
       "      <td>0.427778</td>\n",
       "      <td>0.816327</td>\n",
       "      <td>0.959115</td>\n",
       "      <td>0.265112</td>\n",
       "      <td>0.414634</td>\n",
       "      <td>0.254321</td>\n",
       "      <td>0.750000</td>\n",
       "      <td>0.490991</td>\n",
       "      <td>0.255848</td>\n",
       "      <td>0.261905</td>\n",
       "      <td>...</td>\n",
       "      <td>NaN</td>\n",
       "      <td>0.880952</td>\n",
       "      <td>0.000000</td>\n",
       "      <td>0.242754</td>\n",
       "      <td>0.515152</td>\n",
       "      <td>0.657143</td>\n",
       "      <td>0.134921</td>\n",
       "      <td>68.11</td>\n",
       "      <td>Y</td>\n",
       "      <td>Case</td>\n",
       "    </tr>\n",
       "    <tr>\n",
       "      <th>4</th>\n",
       "      <td>0.092773</td>\n",
       "      <td>0.171744</td>\n",
       "      <td>0.754745</td>\n",
       "      <td>0.096928</td>\n",
       "      <td>0.044677</td>\n",
       "      <td>0.163602</td>\n",
       "      <td>0.295455</td>\n",
       "      <td>0.283198</td>\n",
       "      <td>0.172790</td>\n",
       "      <td>0.191279</td>\n",
       "      <td>...</td>\n",
       "      <td>0.026667</td>\n",
       "      <td>0.884615</td>\n",
       "      <td>0.014706</td>\n",
       "      <td>0.359748</td>\n",
       "      <td>0.169872</td>\n",
       "      <td>0.359524</td>\n",
       "      <td>0.097561</td>\n",
       "      <td>65.53</td>\n",
       "      <td>N</td>\n",
       "      <td>Case</td>\n",
       "    </tr>\n",
       "  </tbody>\n",
       "</table>\n",
       "<p>5 rows × 2643 columns</p>\n",
       "</div>"
      ],
      "text/plain": [
       "      DMR 1     DMR 2     DMR 3     DMR 4     DMR 5     DMR 6     DMR 7  \\\n",
       "0  0.401564  0.758967  0.954348  0.363624  0.432317  0.326701  0.821014   \n",
       "1  0.068567  0.196062  0.668301  0.053066  0.071273  0.048466  0.024194   \n",
       "2  0.083163  0.276989  0.467270  0.062500  0.034416  0.074650  0.022973   \n",
       "3  0.427778  0.816327  0.959115  0.265112  0.414634  0.254321  0.750000   \n",
       "4  0.092773  0.171744  0.754745  0.096928  0.044677  0.163602  0.295455   \n",
       "\n",
       "      DMR 8     DMR 9    DMR 10  ...  DMR 2634  DMR 2635  DMR 2636  DMR 2637  \\\n",
       "0  0.121339  0.552083  0.404688  ...  0.237500  0.931159  0.315315  0.305660   \n",
       "1  0.009434  0.141934  0.076239  ...  0.000000  0.550000  0.046875  0.215986   \n",
       "2  0.035185  0.102621  0.091151  ...  0.071429  0.875000  0.152252  0.144186   \n",
       "3  0.490991  0.255848  0.261905  ...       NaN  0.880952  0.000000  0.242754   \n",
       "4  0.283198  0.172790  0.191279  ...  0.026667  0.884615  0.014706  0.359748   \n",
       "\n",
       "   DMR 2638  DMR 2639  DMR 2640    Age  Smoking_status  Case_control_status  \n",
       "0  0.369048  0.183403  0.041667  80.13               Y                 Case  \n",
       "1  0.156746  0.296875  0.052632  69.33               N                 Case  \n",
       "2  0.181746  0.431034  0.036508  71.09               Y                 Case  \n",
       "3  0.515152  0.657143  0.134921  68.11               Y                 Case  \n",
       "4  0.169872  0.359524  0.097561  65.53               N                 Case  \n",
       "\n",
       "[5 rows x 2643 columns]"
      ]
     },
     "execution_count": 10,
     "metadata": {},
     "output_type": "execute_result"
    }
   ],
   "source": [
    "df_smoking.head()"
   ]
  },
  {
   "cell_type": "code",
   "execution_count": 35,
   "id": "6691c45a",
   "metadata": {},
   "outputs": [],
   "source": [
    "df_smoking_high_cov=df_smoking.dropna(axis=1)"
   ]
  },
  {
   "cell_type": "code",
   "execution_count": 44,
   "id": "8f7ce692",
   "metadata": {},
   "outputs": [
    {
     "data": {
      "text/html": [
       "<div>\n",
       "<style scoped>\n",
       "    .dataframe tbody tr th:only-of-type {\n",
       "        vertical-align: middle;\n",
       "    }\n",
       "\n",
       "    .dataframe tbody tr th {\n",
       "        vertical-align: top;\n",
       "    }\n",
       "\n",
       "    .dataframe thead th {\n",
       "        text-align: right;\n",
       "    }\n",
       "</style>\n",
       "<table border=\"1\" class=\"dataframe\">\n",
       "  <thead>\n",
       "    <tr style=\"text-align: right;\">\n",
       "      <th></th>\n",
       "      <th>DMR 1</th>\n",
       "      <th>DMR 2</th>\n",
       "      <th>DMR 3</th>\n",
       "      <th>DMR 4</th>\n",
       "      <th>DMR 5</th>\n",
       "      <th>DMR 6</th>\n",
       "      <th>DMR 7</th>\n",
       "      <th>DMR 8</th>\n",
       "      <th>DMR 9</th>\n",
       "      <th>DMR 10</th>\n",
       "      <th>...</th>\n",
       "      <th>DMR 2633</th>\n",
       "      <th>DMR 2635</th>\n",
       "      <th>DMR 2636</th>\n",
       "      <th>DMR 2637</th>\n",
       "      <th>DMR 2638</th>\n",
       "      <th>DMR 2639</th>\n",
       "      <th>DMR 2640</th>\n",
       "      <th>Age</th>\n",
       "      <th>Smoking_status</th>\n",
       "      <th>Case_control_status</th>\n",
       "    </tr>\n",
       "  </thead>\n",
       "  <tbody>\n",
       "    <tr>\n",
       "      <th>0</th>\n",
       "      <td>0.401564</td>\n",
       "      <td>0.758967</td>\n",
       "      <td>0.954348</td>\n",
       "      <td>0.363624</td>\n",
       "      <td>0.432317</td>\n",
       "      <td>0.326701</td>\n",
       "      <td>0.821014</td>\n",
       "      <td>0.121339</td>\n",
       "      <td>0.552083</td>\n",
       "      <td>0.404688</td>\n",
       "      <td>...</td>\n",
       "      <td>0.065738</td>\n",
       "      <td>0.931159</td>\n",
       "      <td>0.315315</td>\n",
       "      <td>0.305660</td>\n",
       "      <td>0.369048</td>\n",
       "      <td>0.183403</td>\n",
       "      <td>0.041667</td>\n",
       "      <td>80.13</td>\n",
       "      <td>Y</td>\n",
       "      <td>Case</td>\n",
       "    </tr>\n",
       "    <tr>\n",
       "      <th>1</th>\n",
       "      <td>0.068567</td>\n",
       "      <td>0.196062</td>\n",
       "      <td>0.668301</td>\n",
       "      <td>0.053066</td>\n",
       "      <td>0.071273</td>\n",
       "      <td>0.048466</td>\n",
       "      <td>0.024194</td>\n",
       "      <td>0.009434</td>\n",
       "      <td>0.141934</td>\n",
       "      <td>0.076239</td>\n",
       "      <td>...</td>\n",
       "      <td>0.053608</td>\n",
       "      <td>0.550000</td>\n",
       "      <td>0.046875</td>\n",
       "      <td>0.215986</td>\n",
       "      <td>0.156746</td>\n",
       "      <td>0.296875</td>\n",
       "      <td>0.052632</td>\n",
       "      <td>69.33</td>\n",
       "      <td>N</td>\n",
       "      <td>Case</td>\n",
       "    </tr>\n",
       "    <tr>\n",
       "      <th>2</th>\n",
       "      <td>0.083163</td>\n",
       "      <td>0.276989</td>\n",
       "      <td>0.467270</td>\n",
       "      <td>0.062500</td>\n",
       "      <td>0.034416</td>\n",
       "      <td>0.074650</td>\n",
       "      <td>0.022973</td>\n",
       "      <td>0.035185</td>\n",
       "      <td>0.102621</td>\n",
       "      <td>0.091151</td>\n",
       "      <td>...</td>\n",
       "      <td>0.030039</td>\n",
       "      <td>0.875000</td>\n",
       "      <td>0.152252</td>\n",
       "      <td>0.144186</td>\n",
       "      <td>0.181746</td>\n",
       "      <td>0.431034</td>\n",
       "      <td>0.036508</td>\n",
       "      <td>71.09</td>\n",
       "      <td>Y</td>\n",
       "      <td>Case</td>\n",
       "    </tr>\n",
       "    <tr>\n",
       "      <th>3</th>\n",
       "      <td>0.427778</td>\n",
       "      <td>0.816327</td>\n",
       "      <td>0.959115</td>\n",
       "      <td>0.265112</td>\n",
       "      <td>0.414634</td>\n",
       "      <td>0.254321</td>\n",
       "      <td>0.750000</td>\n",
       "      <td>0.490991</td>\n",
       "      <td>0.255848</td>\n",
       "      <td>0.261905</td>\n",
       "      <td>...</td>\n",
       "      <td>0.029412</td>\n",
       "      <td>0.880952</td>\n",
       "      <td>0.000000</td>\n",
       "      <td>0.242754</td>\n",
       "      <td>0.515152</td>\n",
       "      <td>0.657143</td>\n",
       "      <td>0.134921</td>\n",
       "      <td>68.11</td>\n",
       "      <td>Y</td>\n",
       "      <td>Case</td>\n",
       "    </tr>\n",
       "    <tr>\n",
       "      <th>4</th>\n",
       "      <td>0.092773</td>\n",
       "      <td>0.171744</td>\n",
       "      <td>0.754745</td>\n",
       "      <td>0.096928</td>\n",
       "      <td>0.044677</td>\n",
       "      <td>0.163602</td>\n",
       "      <td>0.295455</td>\n",
       "      <td>0.283198</td>\n",
       "      <td>0.172790</td>\n",
       "      <td>0.191279</td>\n",
       "      <td>...</td>\n",
       "      <td>0.050388</td>\n",
       "      <td>0.884615</td>\n",
       "      <td>0.014706</td>\n",
       "      <td>0.359748</td>\n",
       "      <td>0.169872</td>\n",
       "      <td>0.359524</td>\n",
       "      <td>0.097561</td>\n",
       "      <td>65.53</td>\n",
       "      <td>N</td>\n",
       "      <td>Case</td>\n",
       "    </tr>\n",
       "  </tbody>\n",
       "</table>\n",
       "<p>5 rows × 2390 columns</p>\n",
       "</div>"
      ],
      "text/plain": [
       "      DMR 1     DMR 2     DMR 3     DMR 4     DMR 5     DMR 6     DMR 7  \\\n",
       "0  0.401564  0.758967  0.954348  0.363624  0.432317  0.326701  0.821014   \n",
       "1  0.068567  0.196062  0.668301  0.053066  0.071273  0.048466  0.024194   \n",
       "2  0.083163  0.276989  0.467270  0.062500  0.034416  0.074650  0.022973   \n",
       "3  0.427778  0.816327  0.959115  0.265112  0.414634  0.254321  0.750000   \n",
       "4  0.092773  0.171744  0.754745  0.096928  0.044677  0.163602  0.295455   \n",
       "\n",
       "      DMR 8     DMR 9    DMR 10  ...  DMR 2633  DMR 2635  DMR 2636  DMR 2637  \\\n",
       "0  0.121339  0.552083  0.404688  ...  0.065738  0.931159  0.315315  0.305660   \n",
       "1  0.009434  0.141934  0.076239  ...  0.053608  0.550000  0.046875  0.215986   \n",
       "2  0.035185  0.102621  0.091151  ...  0.030039  0.875000  0.152252  0.144186   \n",
       "3  0.490991  0.255848  0.261905  ...  0.029412  0.880952  0.000000  0.242754   \n",
       "4  0.283198  0.172790  0.191279  ...  0.050388  0.884615  0.014706  0.359748   \n",
       "\n",
       "   DMR 2638  DMR 2639  DMR 2640    Age  Smoking_status  Case_control_status  \n",
       "0  0.369048  0.183403  0.041667  80.13               Y                 Case  \n",
       "1  0.156746  0.296875  0.052632  69.33               N                 Case  \n",
       "2  0.181746  0.431034  0.036508  71.09               Y                 Case  \n",
       "3  0.515152  0.657143  0.134921  68.11               Y                 Case  \n",
       "4  0.169872  0.359524  0.097561  65.53               N                 Case  \n",
       "\n",
       "[5 rows x 2390 columns]"
      ]
     },
     "execution_count": 44,
     "metadata": {},
     "output_type": "execute_result"
    }
   ],
   "source": [
    "df_smoking_high_cov.head()"
   ]
  },
  {
   "cell_type": "code",
   "execution_count": 36,
   "id": "a8b6532e",
   "metadata": {},
   "outputs": [],
   "source": [
    "# Turn smoking status from yes/no into 1/0\n",
    "from pandas import get_dummies\n",
    "df_smoking_high_cov=get_dummies(data=df_smoking_high_cov, columns=['Smoking_status'],drop_first=True)"
   ]
  },
  {
   "cell_type": "code",
   "execution_count": 37,
   "id": "5ce8e155",
   "metadata": {},
   "outputs": [],
   "source": [
    "df_smoking_high_cov.rename({'Smoking_status_Y':'Smoking_status'},axis=1,inplace=True)"
   ]
  },
  {
   "cell_type": "code",
   "execution_count": 38,
   "id": "1d1e5d75",
   "metadata": {},
   "outputs": [],
   "source": [
    "# drop columns not currently interested in (age,case_control_status)\n",
    "df_smoking_high_cov.drop(['Age','Case_control_status'],axis=1,inplace=True)"
   ]
  },
  {
   "cell_type": "code",
   "execution_count": 39,
   "id": "1f1f5f77",
   "metadata": {},
   "outputs": [],
   "source": [
    "# scale \n",
    "df_smoking_high_cov_scaled=df_smoking_high_cov.copy()\n",
    "df_smoking_high_cov_scaled=(df_smoking_high_cov_scaled - df_smoking_high_cov_scaled.min()) / (df_smoking_high_cov_scaled.max() - df_smoking_high_cov_scaled.min())"
   ]
  },
  {
   "cell_type": "code",
   "execution_count": 40,
   "id": "0dc61c26",
   "metadata": {},
   "outputs": [],
   "source": [
    "from sklearn.linear_model import LogisticRegression\n",
    "import numpy as np\n",
    "\n",
    "model = LogisticRegression()\n",
    "\n",
    "dmr_cols=[]\n",
    "for c in df_smoking_high_cov.columns:\n",
    "    if c.startswith('DMR'):\n",
    "        dmr_cols.append(c)\n",
    "\n",
    "x=df_smoking_high_cov[dmr_cols]\n",
    "y=df_smoking_high_cov['Smoking_status']"
   ]
  },
  {
   "cell_type": "code",
   "execution_count": 41,
   "id": "2988dd2e",
   "metadata": {},
   "outputs": [],
   "source": [
    "from sklearn.model_selection import train_test_split\n",
    "x_train, x_test,y_train,y_test = train_test_split(x,y,test_size = 0.3)\n",
    "model = LogisticRegression()\n",
    "pred_model=model.fit(x_train,y_train)"
   ]
  },
  {
   "cell_type": "code",
   "execution_count": 42,
   "id": "4f478e7c",
   "metadata": {},
   "outputs": [
    {
     "data": {
      "text/plain": [
       "0.7272727272727273"
      ]
     },
     "execution_count": 42,
     "metadata": {},
     "output_type": "execute_result"
    }
   ],
   "source": [
    "pred_model.score(x_test,y_test)"
   ]
  },
  {
   "cell_type": "code",
   "execution_count": 43,
   "id": "50858230",
   "metadata": {},
   "outputs": [],
   "source": [
    "# Seems to give relatively high scores \n",
    "# how much is model driven by training vs. test sets (as small dataframe)?"
   ]
  },
  {
   "cell_type": "code",
   "execution_count": 44,
   "id": "8f2c30da",
   "metadata": {},
   "outputs": [],
   "source": [
    "model_scores=[]\n",
    "for i in range(100):\n",
    "    from sklearn.model_selection import train_test_split\n",
    "    x_train, x_test,y_train,y_test = train_test_split(x,y,test_size = 0.3)\n",
    "    model = LogisticRegression()\n",
    "    pred_model=model.fit(x_train,y_train)\n",
    "    score=pred_model.score(x_test,y_test)\n",
    "    model_scores.append(score)"
   ]
  },
  {
   "cell_type": "code",
   "execution_count": 45,
   "id": "34aebb94",
   "metadata": {},
   "outputs": [
    {
     "data": {
      "text/plain": [
       "<AxesSubplot:ylabel='Count'>"
      ]
     },
     "execution_count": 45,
     "metadata": {},
     "output_type": "execute_result"
    },
    {
     "data": {
      "image/png": "[encoded data removed]",
      "text/plain": [
       "<Figure size 640x480 with 1 Axes>"
      ]
     },
     "metadata": {},
     "output_type": "display_data"
    }
   ],
   "source": [
    "import seaborn as sns\n",
    "sns.histplot(model_scores)"
   ]
  },
  {
   "cell_type": "code",
   "execution_count": 63,
   "id": "4abd8960",
   "metadata": {},
   "outputs": [],
   "source": [
    "# The results are clearly affected by the test/training breakdown: the model actually tends to give relatively high accuracy scores more often than not, but in a significant subset of runs, the model performs worse than chance (50%).\n",
    "# I.e. can sometimes use DMRs to predict smoking status, but in the \"real world\" would probably want higher accuracy, more consistently\n",
    "# NB: this is really a very small dataset, especially as multiple people did not have smoking status known (see above)\n",
    "# Would get a better idea with more data"
   ]
  },
  {
   "cell_type": "markdown",
   "id": "eb5e069a",
   "metadata": {},
   "source": [
    "7- Can DMRs predict case/control status?"
   ]
  },
  {
   "cell_type": "code",
   "execution_count": 46,
   "id": "4c991bdc",
   "metadata": {},
   "outputs": [],
   "source": [
    "df_high_coverage=df.dropna(axis=1)"
   ]
  },
  {
   "cell_type": "code",
   "execution_count": 47,
   "id": "0d570633",
   "metadata": {},
   "outputs": [],
   "source": [
    "# Turn smoking status from yes/no into 1/0\n",
    "from pandas import get_dummies\n",
    "df_status_high_cov=get_dummies(data=df_high_coverage, columns=['Case_control_status'],drop_first=True)"
   ]
  },
  {
   "cell_type": "code",
   "execution_count": 48,
   "id": "f2d3300e",
   "metadata": {},
   "outputs": [
    {
     "data": {
      "text/html": [
       "<div>\n",
       "<style scoped>\n",
       "    .dataframe tbody tr th:only-of-type {\n",
       "        vertical-align: middle;\n",
       "    }\n",
       "\n",
       "    .dataframe tbody tr th {\n",
       "        vertical-align: top;\n",
       "    }\n",
       "\n",
       "    .dataframe thead th {\n",
       "        text-align: right;\n",
       "    }\n",
       "</style>\n",
       "<table border=\"1\" class=\"dataframe\">\n",
       "  <thead>\n",
       "    <tr style=\"text-align: right;\">\n",
       "      <th></th>\n",
       "      <th>DMR 1</th>\n",
       "      <th>DMR 2</th>\n",
       "      <th>DMR 3</th>\n",
       "      <th>DMR 4</th>\n",
       "      <th>DMR 5</th>\n",
       "      <th>DMR 6</th>\n",
       "      <th>DMR 7</th>\n",
       "      <th>DMR 8</th>\n",
       "      <th>DMR 9</th>\n",
       "      <th>DMR 10</th>\n",
       "      <th>...</th>\n",
       "      <th>DMR 2633</th>\n",
       "      <th>DMR 2635</th>\n",
       "      <th>DMR 2636</th>\n",
       "      <th>DMR 2637</th>\n",
       "      <th>DMR 2638</th>\n",
       "      <th>DMR 2639</th>\n",
       "      <th>DMR 2640</th>\n",
       "      <th>Age</th>\n",
       "      <th>Smoking_status</th>\n",
       "      <th>Case_control_status_Control</th>\n",
       "    </tr>\n",
       "  </thead>\n",
       "  <tbody>\n",
       "    <tr>\n",
       "      <th>0</th>\n",
       "      <td>0.401564</td>\n",
       "      <td>0.758967</td>\n",
       "      <td>0.954348</td>\n",
       "      <td>0.363624</td>\n",
       "      <td>0.432317</td>\n",
       "      <td>0.326701</td>\n",
       "      <td>0.821014</td>\n",
       "      <td>0.121339</td>\n",
       "      <td>0.552083</td>\n",
       "      <td>0.404688</td>\n",
       "      <td>...</td>\n",
       "      <td>0.065738</td>\n",
       "      <td>0.931159</td>\n",
       "      <td>0.315315</td>\n",
       "      <td>0.305660</td>\n",
       "      <td>0.369048</td>\n",
       "      <td>0.183403</td>\n",
       "      <td>0.041667</td>\n",
       "      <td>80.13</td>\n",
       "      <td>Y</td>\n",
       "      <td>0</td>\n",
       "    </tr>\n",
       "    <tr>\n",
       "      <th>1</th>\n",
       "      <td>0.068567</td>\n",
       "      <td>0.196062</td>\n",
       "      <td>0.668301</td>\n",
       "      <td>0.053066</td>\n",
       "      <td>0.071273</td>\n",
       "      <td>0.048466</td>\n",
       "      <td>0.024194</td>\n",
       "      <td>0.009434</td>\n",
       "      <td>0.141934</td>\n",
       "      <td>0.076239</td>\n",
       "      <td>...</td>\n",
       "      <td>0.053608</td>\n",
       "      <td>0.550000</td>\n",
       "      <td>0.046875</td>\n",
       "      <td>0.215986</td>\n",
       "      <td>0.156746</td>\n",
       "      <td>0.296875</td>\n",
       "      <td>0.052632</td>\n",
       "      <td>69.33</td>\n",
       "      <td>N</td>\n",
       "      <td>0</td>\n",
       "    </tr>\n",
       "  </tbody>\n",
       "</table>\n",
       "<p>2 rows × 2390 columns</p>\n",
       "</div>"
      ],
      "text/plain": [
       "      DMR 1     DMR 2     DMR 3     DMR 4     DMR 5     DMR 6     DMR 7  \\\n",
       "0  0.401564  0.758967  0.954348  0.363624  0.432317  0.326701  0.821014   \n",
       "1  0.068567  0.196062  0.668301  0.053066  0.071273  0.048466  0.024194   \n",
       "\n",
       "      DMR 8     DMR 9    DMR 10  ...  DMR 2633  DMR 2635  DMR 2636  DMR 2637  \\\n",
       "0  0.121339  0.552083  0.404688  ...  0.065738  0.931159  0.315315  0.305660   \n",
       "1  0.009434  0.141934  0.076239  ...  0.053608  0.550000  0.046875  0.215986   \n",
       "\n",
       "   DMR 2638  DMR 2639  DMR 2640    Age  Smoking_status  \\\n",
       "0  0.369048  0.183403  0.041667  80.13               Y   \n",
       "1  0.156746  0.296875  0.052632  69.33               N   \n",
       "\n",
       "   Case_control_status_Control  \n",
       "0                            0  \n",
       "1                            0  \n",
       "\n",
       "[2 rows x 2390 columns]"
      ]
     },
     "execution_count": 48,
     "metadata": {},
     "output_type": "execute_result"
    }
   ],
   "source": [
    "df_status_high_cov.head(2)"
   ]
  },
  {
   "cell_type": "code",
   "execution_count": 49,
   "id": "0a3a6b7d",
   "metadata": {},
   "outputs": [],
   "source": [
    "# drop columns not currently interested in (age,case_control_status)\n",
    "df_status_high_cov.drop(['Age','Smoking_status'],axis=1,inplace=True)"
   ]
  },
  {
   "cell_type": "code",
   "execution_count": 50,
   "id": "35c11805",
   "metadata": {},
   "outputs": [],
   "source": [
    "# scale \n",
    "df_status_high_cov_scaled=df_status_high_cov.copy()\n",
    "df_status_high_cov_scaled=(df_status_high_cov_scaled - df_status_high_cov_scaled.min()) / (df_status_high_cov_scaled.max() - df_status_high_cov_scaled.min())"
   ]
  },
  {
   "cell_type": "code",
   "execution_count": 54,
   "id": "2aee5d22",
   "metadata": {},
   "outputs": [
    {
     "data": {
      "text/html": [
       "<div>\n",
       "<style scoped>\n",
       "    .dataframe tbody tr th:only-of-type {\n",
       "        vertical-align: middle;\n",
       "    }\n",
       "\n",
       "    .dataframe tbody tr th {\n",
       "        vertical-align: top;\n",
       "    }\n",
       "\n",
       "    .dataframe thead th {\n",
       "        text-align: right;\n",
       "    }\n",
       "</style>\n",
       "<table border=\"1\" class=\"dataframe\">\n",
       "  <thead>\n",
       "    <tr style=\"text-align: right;\">\n",
       "      <th></th>\n",
       "      <th>DMR 1</th>\n",
       "      <th>DMR 2</th>\n",
       "      <th>DMR 3</th>\n",
       "      <th>DMR 4</th>\n",
       "      <th>DMR 5</th>\n",
       "      <th>DMR 6</th>\n",
       "      <th>DMR 7</th>\n",
       "      <th>DMR 8</th>\n",
       "      <th>DMR 9</th>\n",
       "      <th>DMR 10</th>\n",
       "      <th>...</th>\n",
       "      <th>DMR 2629</th>\n",
       "      <th>DMR 2631</th>\n",
       "      <th>DMR 2633</th>\n",
       "      <th>DMR 2635</th>\n",
       "      <th>DMR 2636</th>\n",
       "      <th>DMR 2637</th>\n",
       "      <th>DMR 2638</th>\n",
       "      <th>DMR 2639</th>\n",
       "      <th>DMR 2640</th>\n",
       "      <th>Case_control_status_Control</th>\n",
       "    </tr>\n",
       "  </thead>\n",
       "  <tbody>\n",
       "    <tr>\n",
       "      <th>0</th>\n",
       "      <td>0.932429</td>\n",
       "      <td>0.919830</td>\n",
       "      <td>0.993188</td>\n",
       "      <td>0.480389</td>\n",
       "      <td>0.962183</td>\n",
       "      <td>0.790221</td>\n",
       "      <td>0.870333</td>\n",
       "      <td>0.247130</td>\n",
       "      <td>1.000000</td>\n",
       "      <td>1.000000</td>\n",
       "      <td>...</td>\n",
       "      <td>0.766193</td>\n",
       "      <td>0.953724</td>\n",
       "      <td>0.217533</td>\n",
       "      <td>0.847021</td>\n",
       "      <td>0.945946</td>\n",
       "      <td>0.735700</td>\n",
       "      <td>0.576389</td>\n",
       "      <td>0.230952</td>\n",
       "      <td>0.090498</td>\n",
       "      <td>0.0</td>\n",
       "    </tr>\n",
       "    <tr>\n",
       "      <th>1</th>\n",
       "      <td>0.074054</td>\n",
       "      <td>0.133061</td>\n",
       "      <td>0.584389</td>\n",
       "      <td>0.042761</td>\n",
       "      <td>0.135374</td>\n",
       "      <td>0.077150</td>\n",
       "      <td>0.025647</td>\n",
       "      <td>0.019214</td>\n",
       "      <td>0.112135</td>\n",
       "      <td>0.106399</td>\n",
       "      <td>...</td>\n",
       "      <td>0.136364</td>\n",
       "      <td>0.471434</td>\n",
       "      <td>0.168252</td>\n",
       "      <td>0.000000</td>\n",
       "      <td>0.140625</td>\n",
       "      <td>0.501405</td>\n",
       "      <td>0.204861</td>\n",
       "      <td>0.373843</td>\n",
       "      <td>0.132174</td>\n",
       "      <td>0.0</td>\n",
       "    </tr>\n",
       "  </tbody>\n",
       "</table>\n",
       "<p>2 rows × 2388 columns</p>\n",
       "</div>"
      ],
      "text/plain": [
       "      DMR 1     DMR 2     DMR 3     DMR 4     DMR 5     DMR 6     DMR 7  \\\n",
       "0  0.932429  0.919830  0.993188  0.480389  0.962183  0.790221  0.870333   \n",
       "1  0.074054  0.133061  0.584389  0.042761  0.135374  0.077150  0.025647   \n",
       "\n",
       "      DMR 8     DMR 9    DMR 10  ...  DMR 2629  DMR 2631  DMR 2633  DMR 2635  \\\n",
       "0  0.247130  1.000000  1.000000  ...  0.766193  0.953724  0.217533  0.847021   \n",
       "1  0.019214  0.112135  0.106399  ...  0.136364  0.471434  0.168252  0.000000   \n",
       "\n",
       "   DMR 2636  DMR 2637  DMR 2638  DMR 2639  DMR 2640  \\\n",
       "0  0.945946  0.735700  0.576389  0.230952  0.090498   \n",
       "1  0.140625  0.501405  0.204861  0.373843  0.132174   \n",
       "\n",
       "   Case_control_status_Control  \n",
       "0                          0.0  \n",
       "1                          0.0  \n",
       "\n",
       "[2 rows x 2388 columns]"
      ]
     },
     "execution_count": 54,
     "metadata": {},
     "output_type": "execute_result"
    }
   ],
   "source": [
    "df_status_high_cov_scaled.head(2)"
   ]
  },
  {
   "cell_type": "code",
   "execution_count": 64,
   "id": "43309b57",
   "metadata": {},
   "outputs": [],
   "source": [
    "from sklearn.linear_model import LogisticRegression\n",
    "import numpy as np\n",
    "\n",
    "model = LogisticRegression()\n",
    "\n",
    "dmr_cols=[]\n",
    "for c in df_status_high_cov_scaled.columns:\n",
    "    if c.startswith('DMR'):\n",
    "        dmr_cols.append(c)\n",
    "\n",
    "x=df_status_high_cov_scaled[dmr_cols]\n",
    "y=df_status_high_cov_scaled['Case_control_status_Control']"
   ]
  },
  {
   "cell_type": "code",
   "execution_count": 65,
   "id": "b8025173",
   "metadata": {},
   "outputs": [],
   "source": [
    "from sklearn.model_selection import train_test_split\n",
    "x_train, x_test,y_train,y_test = train_test_split(x,y,test_size = 0.3)\n",
    "model = LogisticRegression()\n",
    "pred_model=model.fit(x_train,y_train)"
   ]
  },
  {
   "cell_type": "code",
   "execution_count": 66,
   "id": "3c5cbbf3",
   "metadata": {},
   "outputs": [
    {
     "data": {
      "text/plain": [
       "0.6363636363636364"
      ]
     },
     "execution_count": 66,
     "metadata": {},
     "output_type": "execute_result"
    }
   ],
   "source": [
    "pred_model.score(x_test,y_test)"
   ]
  },
  {
   "cell_type": "code",
   "execution_count": 67,
   "id": "a44d22c4",
   "metadata": {},
   "outputs": [],
   "source": [
    "model_scores=[]\n",
    "for i in range(100):\n",
    "    from sklearn.model_selection import train_test_split\n",
    "    x_train, x_test,y_train,y_test = train_test_split(x,y,test_size = 0.3)\n",
    "    model = LogisticRegression()\n",
    "    pred_model=model.fit(x_train,y_train)\n",
    "    score=pred_model.score(x_test,y_test)\n",
    "    model_scores.append(score)"
   ]
  },
  {
   "cell_type": "code",
   "execution_count": 68,
   "id": "da81f89d",
   "metadata": {},
   "outputs": [
    {
     "data": {
      "text/plain": [
       "<AxesSubplot:ylabel='Count'>"
      ]
     },
     "execution_count": 68,
     "metadata": {},
     "output_type": "execute_result"
    },
    {
     "data": {
      "image/png": "[encoded data removed]",
      "text/plain": [
       "<Figure size 640x480 with 1 Axes>"
      ]
     },
     "metadata": {},
     "output_type": "display_data"
    }
   ],
   "source": [
    "import seaborn as sns\n",
    "sns.histplot(model_scores)"
   ]
  },
  {
   "cell_type": "code",
   "execution_count": null,
   "id": "94897698",
   "metadata": {},
   "outputs": [],
   "source": [
    "# In 100 ran, almost always got an accuracy score of above 50%, with most around the 80% mark.\n",
    "# Especially considering that our data is limited, this is very encouraging.\n",
    "# Think it is likely that can use the DMRs included in this dataset for prediction of AML case/control status in unseen samples\n",
    "# Future work: Narrow down regions which give best prediction and generate more data"
   ]
  }
 ],
 "metadata": {
  "kernelspec": {
   "display_name": "Python 3 (ipykernel)",
   "language": "python",
   "name": "python3"
  },
  "language_info": {
   "codemirror_mode": {
    "name": "ipython",
    "version": 3
   },
   "file_extension": ".py",
   "mimetype": "text/x-python",
   "name": "python",
   "nbconvert_exporter": "python",
   "pygments_lexer": "ipython3",
   "version": "3.7.13"
  }
 },
 "nbformat": 4,
 "nbformat_minor": 5
}
